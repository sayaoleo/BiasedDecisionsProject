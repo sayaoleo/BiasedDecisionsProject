{
 "cells": [
  {
   "cell_type": "code",
   "execution_count": 1,
   "metadata": {},
   "outputs": [],
   "source": [
    "import numpy as np\n",
    "import pandas as pd\n",
    "from scipy.optimize import curve_fit\n",
    "\n"
   ]
  },
  {
   "cell_type": "code",
   "execution_count": 2,
   "metadata": {},
   "outputs": [],
   "source": [
    "#!pip install openpyxl\n",
    "# Ler dados da planilha Excel\n",
    "# Substitua 'seu_arquivo.xlsx' pelo caminho para o seu arquivo Excel\n",
    "data = pd.read_excel('..\\\\dados\\\\pesos_3.xlsx')\n",
    "#data = np.nan_to_num(data)\n",
    "# Extrair colunas relevantes (probabilidades, escolhas e resultados)\n",
    "objective_probabilities = data['probability'].values\n",
    "choices = data['choice'].values\n",
    "outcomes = data['outcome'].values\n"
   ]
  },
  {
   "cell_type": "code",
   "execution_count": 3,
   "metadata": {},
   "outputs": [],
   "source": [
    "\n",
    "# Define the 4-Parameter Function\n",
    "def tversky_kahneman_probability_weighting(p, b, q, r):\n",
    "    return (b * p) / ((b * p + (1 - p) * (1 - q)) ** r)"
   ]
  },
  {
   "cell_type": "code",
   "execution_count": 4,
   "metadata": {},
   "outputs": [
    {
     "name": "stderr",
     "output_type": "stream",
     "text": [
      "<ipython-input-3-a25b5fb41c17>:3: RuntimeWarning: invalid value encountered in power\n",
      "  return (b * p) / ((b * p + (1 - p) * (1 - q)) ** r)\n"
     ]
    }
   ],
   "source": [
    "# Estimate the parameters (b, q, r) using curve_fit\n",
    "initial_guess = [0.5, 0.5, 0.5]  # Initial guess for parameters\n",
    "optimized_params, _ = curve_fit(tversky_kahneman_probability_weighting, objective_probabilities, choices, p0=initial_guess)"
   ]
  },
  {
   "cell_type": "code",
   "execution_count": 5,
   "metadata": {},
   "outputs": [],
   "source": [
    "\n",
    "# Calculate subjective weights for individual choices based on probabilities\n",
    "estimated_subjective_weights = tversky_kahneman_probability_weighting(objective_probabilities, *optimized_params)"
   ]
  },
  {
   "cell_type": "code",
   "execution_count": 6,
   "metadata": {},
   "outputs": [
    {
     "name": "stdout",
     "output_type": "stream",
     "text": [
      "[0.38063248 0.38063248 0.38063248 ... 0.28992005 0.28992005 0.28992005]\n"
     ]
    }
   ],
   "source": [
    "print(estimated_subjective_weights)"
   ]
  },
  {
   "cell_type": "code",
   "execution_count": 7,
   "metadata": {},
   "outputs": [],
   "source": [
    "# Escolha um nome e local para o arquivo Excel de saída\n",
    "df = pd.DataFrame(estimated_subjective_weights)\n",
    "caminho_arquivo_excel = 'C:/Users/lfsay/OneDrive/Área de Trabalho/resultados6.xlsx'\n",
    "\n",
    "df.to_excel(excel_writer=caminho_arquivo_excel, index=False)"
   ]
  },
  {
   "cell_type": "code",
   "execution_count": null,
   "metadata": {},
   "outputs": [],
   "source": []
  }
 ],
 "metadata": {
  "kernelspec": {
   "display_name": "Python 3",
   "language": "python",
   "name": "python3"
  },
  "language_info": {
   "codemirror_mode": {
    "name": "ipython",
    "version": 3
   },
   "file_extension": ".py",
   "mimetype": "text/x-python",
   "name": "python",
   "nbconvert_exporter": "python",
   "pygments_lexer": "ipython3",
   "version": "3.9.6"
  }
 },
 "nbformat": 4,
 "nbformat_minor": 4
}
