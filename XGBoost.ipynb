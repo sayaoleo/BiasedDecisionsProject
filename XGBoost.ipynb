{
 "cells": [
  {
   "cell_type": "code",
   "execution_count": 6,
   "metadata": {},
   "outputs": [
    {
     "data": {
      "text/html": [
       "<div>\n",
       "<style scoped>\n",
       "    .dataframe tbody tr th:only-of-type {\n",
       "        vertical-align: middle;\n",
       "    }\n",
       "\n",
       "    .dataframe tbody tr th {\n",
       "        vertical-align: top;\n",
       "    }\n",
       "\n",
       "    .dataframe thead th {\n",
       "        text-align: right;\n",
       "    }\n",
       "</style>\n",
       "<table border=\"1\" class=\"dataframe\">\n",
       "  <thead>\n",
       "    <tr style=\"text-align: right;\">\n",
       "      <th></th>\n",
       "      <th>Gender</th>\n",
       "      <th>Age</th>\n",
       "      <th>HighValue</th>\n",
       "      <th>pHighValue</th>\n",
       "      <th>LowValue</th>\n",
       "      <th>LotNum</th>\n",
       "      <th>Order</th>\n",
       "      <th>Trial</th>\n",
       "      <th>Feedback</th>\n",
       "      <th>EV</th>\n",
       "      <th>Loss</th>\n",
       "    </tr>\n",
       "  </thead>\n",
       "  <tbody>\n",
       "    <tr>\n",
       "      <th>0</th>\n",
       "      <td>1</td>\n",
       "      <td>26</td>\n",
       "      <td>-3</td>\n",
       "      <td>1.0</td>\n",
       "      <td>-3</td>\n",
       "      <td>1</td>\n",
       "      <td>19</td>\n",
       "      <td>1</td>\n",
       "      <td>0</td>\n",
       "      <td>-3.0</td>\n",
       "      <td>0</td>\n",
       "    </tr>\n",
       "    <tr>\n",
       "      <th>1</th>\n",
       "      <td>1</td>\n",
       "      <td>26</td>\n",
       "      <td>-3</td>\n",
       "      <td>1.0</td>\n",
       "      <td>-3</td>\n",
       "      <td>1</td>\n",
       "      <td>19</td>\n",
       "      <td>2</td>\n",
       "      <td>0</td>\n",
       "      <td>-3.0</td>\n",
       "      <td>0</td>\n",
       "    </tr>\n",
       "    <tr>\n",
       "      <th>2</th>\n",
       "      <td>1</td>\n",
       "      <td>26</td>\n",
       "      <td>-3</td>\n",
       "      <td>1.0</td>\n",
       "      <td>-3</td>\n",
       "      <td>1</td>\n",
       "      <td>19</td>\n",
       "      <td>3</td>\n",
       "      <td>0</td>\n",
       "      <td>-3.0</td>\n",
       "      <td>0</td>\n",
       "    </tr>\n",
       "    <tr>\n",
       "      <th>3</th>\n",
       "      <td>1</td>\n",
       "      <td>26</td>\n",
       "      <td>-3</td>\n",
       "      <td>1.0</td>\n",
       "      <td>-3</td>\n",
       "      <td>1</td>\n",
       "      <td>19</td>\n",
       "      <td>4</td>\n",
       "      <td>0</td>\n",
       "      <td>-3.0</td>\n",
       "      <td>0</td>\n",
       "    </tr>\n",
       "    <tr>\n",
       "      <th>4</th>\n",
       "      <td>1</td>\n",
       "      <td>26</td>\n",
       "      <td>-3</td>\n",
       "      <td>1.0</td>\n",
       "      <td>-3</td>\n",
       "      <td>1</td>\n",
       "      <td>19</td>\n",
       "      <td>5</td>\n",
       "      <td>0</td>\n",
       "      <td>-3.0</td>\n",
       "      <td>0</td>\n",
       "    </tr>\n",
       "  </tbody>\n",
       "</table>\n",
       "</div>"
      ],
      "text/plain": [
       "   Gender  Age  HighValue  pHighValue  LowValue  LotNum  Order  Trial  \\\n",
       "0       1   26         -3         1.0        -3       1     19      1   \n",
       "1       1   26         -3         1.0        -3       1     19      2   \n",
       "2       1   26         -3         1.0        -3       1     19      3   \n",
       "3       1   26         -3         1.0        -3       1     19      4   \n",
       "4       1   26         -3         1.0        -3       1     19      5   \n",
       "\n",
       "   Feedback   EV  Loss  \n",
       "0         0 -3.0     0  \n",
       "1         0 -3.0     0  \n",
       "2         0 -3.0     0  \n",
       "3         0 -3.0     0  \n",
       "4         0 -3.0     0  "
      ]
     },
     "execution_count": 6,
     "metadata": {},
     "output_type": "execute_result"
    }
   ],
   "source": [
    "# importar bibliotecas necessárias\n",
    "%matplotlib inline\n",
    "import numpy as np\n",
    "import pandas as pd\n",
    "from sklearn import preprocessing\n",
    "\n",
    "import matplotlib.pyplot as plt\n",
    "import seaborn as sns\n",
    "\n",
    "from imblearn.over_sampling import RandomOverSampler\n",
    "from imblearn.under_sampling import RandomUnderSampler\n",
    "from sklearn import datasets, metrics\n",
    "from sklearn.linear_model import LinearRegression\n",
    "from sklearn.linear_model import LogisticRegression\n",
    "from sklearn.model_selection import train_test_split, cross_val_score\n",
    "from sklearn.impute import SimpleImputer\n",
    "from xgboost import XGBRegressor\n",
    "from sklearn.metrics import mean_absolute_error\n",
    "from sklearn import linear_model\n",
    "from sklearn.ensemble import RandomForestClassifier\n",
    "\n",
    "\n",
    "\n",
    "from   sklearn.metrics import r2_score\n",
    "import statsmodels.api as sm\n",
    "\n",
    "scores = pd.read_csv(\"..\\\\dados\\\\selecao_final.csv\",sep=';')\n",
    "X = scores.drop([\"Gain/Loss\", \"Gain\",\"Set\",'SubjID','Choice',\"GameID\",\"Amb\",\"Corr\", \"Payoff\", \"Forgone\", \"Apay\", \"Bpay\", \"block\",\"RT\",\"BiasedOption\"], axis=1).select_dtypes(exclude=['object'])\n",
    "X.head()"
   ]
  },
  {
   "cell_type": "code",
   "execution_count": 7,
   "metadata": {},
   "outputs": [],
   "source": [
    "scaler = preprocessing.StandardScaler().fit(X)\n",
    "X_scaled = scaler.transform(X)\n",
    "y = X['Loss']\n",
    "\n",
    "train_data, test_data, train_labels, test_labels = train_test_split(X_scaled, y, train_size=0.8, random_state=3)\n",
    "\n",
    "independent_vars = [\"Gender\", \"HighValue\", \"pHighValue\", \"LowValue\", \"Trial\",  \"Order\", \"Age\", \"EV\", \"LotNum\", \"Feedback\"] # \"Feedback\"\n",
    "X_train = train_data[:, [X.columns.get_loc(col) for col in independent_vars]]\n",
    "X_test = test_data[:, [X.columns.get_loc(col) for col in independent_vars]]\n",
    "\n",
    "undersampler = RandomUnderSampler(random_state=42)\n",
    "X_train_resampled, y_train_resampled = undersampler.fit_resample(X_train, train_labels)\n"
   ]
  },
  {
   "cell_type": "code",
   "execution_count": 8,
   "metadata": {},
   "outputs": [
    {
     "name": "stdout",
     "output_type": "stream",
     "text": [
      "Erro Médio Absoluto: 0.21\n"
     ]
    }
   ],
   "source": [
    "# instanciar o modelo XGBoost\n",
    "model = XGBRegressor()\n",
    "\n",
    "# chamar o fit para o modelo\n",
    "model.fit(X_train_resampled, y_train_resampled)\n",
    "\n",
    "# fazer previsões em cima do dataset de teste\n",
    "predictions = model.predict(X_test)\n",
    "\n",
    "print(\"Erro Médio Absoluto: {:.2f}\".format(mean_absolute_error(predictions, test_labels)))"
   ]
  },
  {
   "cell_type": "code",
   "execution_count": 4,
   "metadata": {},
   "outputs": [],
   "source": [
    "import matplotlib.pyplot as plt\n",
    "import numpy as np\n",
    "from sklearn import metrics\n",
    "predictions_int=[]"
   ]
  },
  {
   "cell_type": "code",
   "execution_count": 9,
   "metadata": {},
   "outputs": [
    {
     "data": {
      "image/png": "[encoded data removed]",
      "text/plain": [
       "<Figure size 432x288 with 2 Axes>"
      ]
     },
     "metadata": {
      "needs_background": "light"
     },
     "output_type": "display_data"
    }
   ],
   "source": [
    "predictions_int = np.asarray(predictions, dtype = 'int')\n",
    "\n",
    "confusion_matrix = metrics.confusion_matrix(test_labels, predictions_int)\n",
    "\n",
    "cm_display = metrics.ConfusionMatrixDisplay(confusion_matrix = confusion_matrix, display_labels = [False, True])\n",
    "\n",
    "cm_display.plot()\n",
    "plt.show()"
   ]
  },
  {
   "cell_type": "code",
   "execution_count": null,
   "metadata": {},
   "outputs": [],
   "source": [
    "test_y"
   ]
  },
  {
   "cell_type": "code",
   "execution_count": null,
   "metadata": {},
   "outputs": [],
   "source": [
    "predictions_int"
   ]
  },
  {
   "cell_type": "code",
   "execution_count": null,
   "metadata": {},
   "outputs": [],
   "source": []
  }
 ],
 "metadata": {
  "kernelspec": {
   "display_name": "Python 3",
   "language": "python",
   "name": "python3"
  },
  "language_info": {
   "codemirror_mode": {
    "name": "ipython",
    "version": 3
   },
   "file_extension": ".py",
   "mimetype": "text/x-python",
   "name": "python",
   "nbconvert_exporter": "python",
   "pygments_lexer": "ipython3",
   "version": "3.9.6"
  }
 },
 "nbformat": 4,
 "nbformat_minor": 4
}
